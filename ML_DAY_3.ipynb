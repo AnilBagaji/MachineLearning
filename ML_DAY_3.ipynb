{
  "nbformat": 4,
  "nbformat_minor": 0,
  "metadata": {
    "colab": {
      "provenance": []
    },
    "kernelspec": {
      "name": "python3",
      "display_name": "Python 3"
    },
    "language_info": {
      "name": "python"
    }
  },
  "cells": [
    {
      "cell_type": "code",
      "execution_count": null,
      "metadata": {
        "colab": {
          "base_uri": "https://localhost:8080/"
        },
        "id": "WBAgvCnxpRIK",
        "outputId": "a0dfb083-25d8-4623-c9be-edf304c90eab"
      },
      "outputs": [
        {
          "output_type": "stream",
          "name": "stdout",
          "text": [
            "Day-1\n"
          ]
        }
      ],
      "source": [
        "print(\"Day-1\")"
      ]
    },
    {
      "cell_type": "code",
      "source": [
        "tup=tuple((\"ntt\",10,20))\n",
        "print(tup)\n",
        "ple=iter(tup)\n",
        "print(next(ple))"
      ],
      "metadata": {
        "colab": {
          "base_uri": "https://localhost:8080/"
        },
        "id": "3yX8n4J6C0NS",
        "outputId": "a391bcc2-cf91-4d7e-a618-287b1247032c"
      },
      "execution_count": null,
      "outputs": [
        {
          "output_type": "stream",
          "name": "stdout",
          "text": [
            "('ntt', 10, 20)\n",
            "ntt\n"
          ]
        }
      ]
    },
    {
      "cell_type": "code",
      "source": [
        "tupl=tuple((\"ntt\"))\n",
        "print(tupl)"
      ],
      "metadata": {
        "colab": {
          "base_uri": "https://localhost:8080/"
        },
        "id": "VLBmyiChDUO7",
        "outputId": "8df6fbd7-8b3a-4fd9-e081-c7a0818451ad"
      },
      "execution_count": 1,
      "outputs": [
        {
          "output_type": "stream",
          "name": "stdout",
          "text": [
            "('n', 't', 't')\n"
          ]
        }
      ]
    },
    {
      "cell_type": "code",
      "source": [
        "tp2=tuple(('15'))\n",
        "print(tp2)"
      ],
      "metadata": {
        "colab": {
          "base_uri": "https://localhost:8080/"
        },
        "id": "xYhRVHV2D4zE",
        "outputId": "7e1a91c5-9fd7-478f-eca7-0d26502b841e"
      },
      "execution_count": null,
      "outputs": [
        {
          "output_type": "stream",
          "name": "stdout",
          "text": [
            "('1', '5')\n"
          ]
        }
      ]
    },
    {
      "cell_type": "code",
      "source": [
        "test=tuple([6,8,7,8])\n",
        "print(test)\n",
        "\n",
        "print(type(test))"
      ],
      "metadata": {
        "colab": {
          "base_uri": "https://localhost:8080/"
        },
        "id": "zhkay-8ZFGxR",
        "outputId": "9fb1f233-444c-4db0-8ead-b2f0a4ce79d2"
      },
      "execution_count": null,
      "outputs": [
        {
          "output_type": "stream",
          "name": "stdout",
          "text": [
            "(6, 8, 7, 8)\n",
            "<class 'tuple'>\n"
          ]
        }
      ]
    },
    {
      "cell_type": "code",
      "source": [
        "dis={1.2:10,2.2:22}\n",
        "dis"
      ],
      "metadata": {
        "colab": {
          "base_uri": "https://localhost:8080/"
        },
        "id": "EHj0lVrkEUS-",
        "outputId": "8d69c14c-a0e1-4852-aa5c-54eab5d6edc9"
      },
      "execution_count": null,
      "outputs": [
        {
          "output_type": "execute_result",
          "data": {
            "text/plain": [
              "{1.2: 10, 2.2: 22}"
            ]
          },
          "metadata": {},
          "execution_count": 33
        }
      ]
    },
    {
      "cell_type": "code",
      "source": [
        "import numpy as np\n",
        "\n",
        "a=np.array([[[1,2,3],[2,4,3]],[[1,2,3],[2,4,3]],[[1,2,3],[2,4,3]]])\n",
        "print(a.ndim)\n",
        "print(a)\n",
        "print(a.shape)\n",
        "print(a.dtype)\n"
      ],
      "metadata": {
        "colab": {
          "base_uri": "https://localhost:8080/"
        },
        "id": "DRKDZyq_Rso_",
        "outputId": "a3df990e-186a-45b0-a944-b2b2fbc2a795"
      },
      "execution_count": null,
      "outputs": [
        {
          "output_type": "stream",
          "name": "stdout",
          "text": [
            "3\n",
            "[[[1 2 3]\n",
            "  [2 4 3]]\n",
            "\n",
            " [[1 2 3]\n",
            "  [2 4 3]]\n",
            "\n",
            " [[1 2 3]\n",
            "  [2 4 3]]]\n",
            "(3, 2, 3)\n",
            "int64\n",
            "<built-in method sort of numpy.ndarray object at 0x7ea8e84557d0>\n"
          ]
        }
      ]
    },
    {
      "cell_type": "code",
      "source": [
        "\n",
        "import numpy as np\n",
        "arr=np.array([[1,2,3],[2,2,3]])\n",
        "print(arr)\n",
        "print(arr.shape)\n"
      ],
      "metadata": {
        "colab": {
          "base_uri": "https://localhost:8080/"
        },
        "id": "32mz13f8WM65",
        "outputId": "f20fe384-e6fb-4b51-dcd1-223d83bccb73"
      },
      "execution_count": null,
      "outputs": [
        {
          "output_type": "stream",
          "name": "stdout",
          "text": [
            "[[1 2 3]\n",
            " [2 2 3]]\n",
            "(2, 3)\n"
          ]
        }
      ]
    },
    {
      "cell_type": "code",
      "source": [
        "dir={\"name\":\"test\",\"server\":\"test\",\"Ip\":\"test\"}\n",
        "\n",
        "print(dir)\n",
        "print(dir[\"name\"])\n",
        "print(dir.keys())\n",
        "dir.update({\"server\":\"India\"})\n",
        "print(dir)\n",
        "print(dir.values())\n",
        "print(dir.items())\n",
        "dir[\"Ip\"]=\"testing\"\n",
        "print(dir[\"Ip\"])\n",
        "\n",
        "dir.pop(\"name\")\n",
        "\n",
        "print(dir)\n"
      ],
      "metadata": {
        "id": "M9VeH9AGZVQQ",
        "outputId": "121aab81-fa17-4109-9a41-2a6217d3a61a",
        "colab": {
          "base_uri": "https://localhost:8080/"
        }
      },
      "execution_count": null,
      "outputs": [
        {
          "output_type": "stream",
          "name": "stdout",
          "text": [
            "{'name': 'test', 'server': 'test', 'Ip': 'test'}\n",
            "test\n",
            "dict_keys(['name', 'server', 'Ip'])\n",
            "{'name': 'test', 'server': 'India', 'Ip': 'test'}\n",
            "dict_values(['test', 'India', 'test'])\n",
            "dict_items([('name', 'test'), ('server', 'India'), ('Ip', 'test')])\n",
            "testing\n",
            "{'server': 'India', 'Ip': 'testing'}\n"
          ]
        }
      ]
    },
    {
      "cell_type": "code",
      "source": [
        "dirr=dict(name=\"india\",place=\"Asia\",tes=\"\")\n",
        "dirr"
      ],
      "metadata": {
        "id": "zASEZS8o3C_N",
        "outputId": "0431bf06-1fc8-4e85-ee66-8c2b054036b6",
        "colab": {
          "base_uri": "https://localhost:8080/"
        }
      },
      "execution_count": 3,
      "outputs": [
        {
          "output_type": "execute_result",
          "data": {
            "text/plain": [
              "{'name': 'india', 'place': 'Asia', 'tes': ''}"
            ]
          },
          "metadata": {},
          "execution_count": 3
        }
      ]
    },
    {
      "cell_type": "code",
      "source": [
        "if \"name\" in dirr:\n",
        "  print(\"yes\")\n",
        "else:\n",
        "  print(\"no\")"
      ],
      "metadata": {
        "colab": {
          "base_uri": "https://localhost:8080/"
        },
        "id": "TWnFU5n05lov",
        "outputId": "3dd648ed-1d1d-43db-dec7-323c5eeb9adf"
      },
      "execution_count": 6,
      "outputs": [
        {
          "output_type": "stream",
          "name": "stdout",
          "text": [
            "yes\n"
          ]
        }
      ]
    },
    {
      "cell_type": "code",
      "source": [
        "dirr[\"tes\"]=\"testing\"\n",
        "dirr=dict({\"ran\":\"dom\"})\n",
        "\n",
        "dirr.update({\"name\":\"ind\",\"stt\":\"ia\",\"di\":\"and\"})\n",
        "print(dirr)\n",
        "\n"
      ],
      "metadata": {
        "colab": {
          "base_uri": "https://localhost:8080/"
        },
        "id": "CRpL5tRF6tFk",
        "outputId": "30db8e88-9809-47c9-dd94-c673ac645e93"
      },
      "execution_count": 18,
      "outputs": [
        {
          "output_type": "stream",
          "name": "stdout",
          "text": [
            "{'ran': 'dom', 'name': 'ind', 'stt': 'ia', 'di': 'and'}\n"
          ]
        }
      ]
    },
    {
      "cell_type": "code",
      "source": [
        "dirr.pop(\"stt\")\n",
        "print(dirr)"
      ],
      "metadata": {
        "colab": {
          "base_uri": "https://localhost:8080/"
        },
        "id": "iUu-S_hx8Bqg",
        "outputId": "5818f88c-f92e-4424-ed02-7c8376b7d752"
      },
      "execution_count": 20,
      "outputs": [
        {
          "output_type": "stream",
          "name": "stdout",
          "text": [
            "{'ran': 'dom', 'name': 'ind'}\n"
          ]
        }
      ]
    },
    {
      "cell_type": "code",
      "source": [],
      "metadata": {
        "id": "cp7ZAoxS6zwz"
      },
      "execution_count": null,
      "outputs": []
    }
  ]
}