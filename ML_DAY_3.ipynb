{
  "nbformat": 4,
  "nbformat_minor": 0,
  "metadata": {
    "colab": {
      "provenance": []
    },
    "kernelspec": {
      "name": "python3",
      "display_name": "Python 3"
    },
    "language_info": {
      "name": "python"
    }
  },
  "cells": [
    {
      "cell_type": "code",
      "execution_count": null,
      "metadata": {
        "colab": {
          "base_uri": "https://localhost:8080/"
        },
        "id": "WBAgvCnxpRIK",
        "outputId": "a0dfb083-25d8-4623-c9be-edf304c90eab"
      },
      "outputs": [
        {
          "output_type": "stream",
          "name": "stdout",
          "text": [
            "Day-1\n"
          ]
        }
      ],
      "source": [
        "print(\"Day-1\")"
      ]
    },
    {
      "cell_type": "code",
      "source": [
        "tup=tuple((\"ntt\",10,20))\n",
        "print(tup)\n",
        "ple=iter(tup)\n",
        "print(next(ple))"
      ],
      "metadata": {
        "id": "3yX8n4J6C0NS",
        "outputId": "a391bcc2-cf91-4d7e-a618-287b1247032c",
        "colab": {
          "base_uri": "https://localhost:8080/"
        }
      },
      "execution_count": 3,
      "outputs": [
        {
          "output_type": "stream",
          "name": "stdout",
          "text": [
            "('ntt', 10, 20)\n",
            "ntt\n"
          ]
        }
      ]
    },
    {
      "cell_type": "code",
      "source": [
        "tupl=tuple(()\"ntt\"))\n",
        "print(tupl)"
      ],
      "metadata": {
        "id": "VLBmyiChDUO7",
        "outputId": "28fdbed5-b8be-40a3-ba70-c74d91fdf9a5",
        "colab": {
          "base_uri": "https://localhost:8080/"
        }
      },
      "execution_count": 10,
      "outputs": [
        {
          "output_type": "stream",
          "name": "stdout",
          "text": [
            "('n', 't', 't')\n"
          ]
        }
      ]
    },
    {
      "cell_type": "code",
      "source": [
        "tp2=tuple(('15'))\n",
        "print(tp2)"
      ],
      "metadata": {
        "id": "xYhRVHV2D4zE",
        "outputId": "7e1a91c5-9fd7-478f-eca7-0d26502b841e",
        "colab": {
          "base_uri": "https://localhost:8080/"
        }
      },
      "execution_count": 17,
      "outputs": [
        {
          "output_type": "stream",
          "name": "stdout",
          "text": [
            "('1', '5')\n"
          ]
        }
      ]
    },
    {
      "cell_type": "code",
      "source": [
        "test=tuple([6,8,7,8])\n",
        "print(test)\n",
        "\n",
        "print(type(test))"
      ],
      "metadata": {
        "id": "zhkay-8ZFGxR",
        "outputId": "9fb1f233-444c-4db0-8ead-b2f0a4ce79d2",
        "colab": {
          "base_uri": "https://localhost:8080/"
        }
      },
      "execution_count": 31,
      "outputs": [
        {
          "output_type": "stream",
          "name": "stdout",
          "text": [
            "(6, 8, 7, 8)\n",
            "<class 'tuple'>\n"
          ]
        }
      ]
    },
    {
      "cell_type": "code",
      "source": [
        "dis={1.2:10,2.2:22}\n",
        "dis"
      ],
      "metadata": {
        "id": "EHj0lVrkEUS-",
        "outputId": "8d69c14c-a0e1-4852-aa5c-54eab5d6edc9",
        "colab": {
          "base_uri": "https://localhost:8080/"
        }
      },
      "execution_count": 33,
      "outputs": [
        {
          "output_type": "execute_result",
          "data": {
            "text/plain": [
              "{1.2: 10, 2.2: 22}"
            ]
          },
          "metadata": {},
          "execution_count": 33
        }
      ]
    }
  ]
}