{
  "nbformat": 4,
  "nbformat_minor": 0,
  "metadata": {
    "colab": {
      "provenance": []
    },
    "kernelspec": {
      "name": "python3",
      "display_name": "Python 3"
    },
    "language_info": {
      "name": "python"
    }
  },
  "cells": [
    {
      "cell_type": "code",
      "execution_count": 1,
      "metadata": {
        "colab": {
          "base_uri": "https://localhost:8080/"
        },
        "id": "WBAgvCnxpRIK",
        "outputId": "da034001-2d4b-4aac-9b20-d854f6278816"
      },
      "outputs": [
        {
          "output_type": "stream",
          "name": "stdout",
          "text": [
            "Day-1\n"
          ]
        }
      ],
      "source": [
        "print(\"Day-1\")"
      ]
    },
    {
      "cell_type": "code",
      "source": [
        "li=[\"apple\",\"test\",\"mango\"]"
      ],
      "metadata": {
        "id": "BxfjIr_jN18M"
      },
      "execution_count": 2,
      "outputs": []
    },
    {
      "cell_type": "code",
      "source": [
        "\n",
        "for i in li:\n",
        "  print(i,len(i))\n"
      ],
      "metadata": {
        "id": "RwXynf6lN7g2",
        "outputId": "5fcab689-c300-4e99-9dd9-35121d1204fd",
        "colab": {
          "base_uri": "https://localhost:8080/"
        }
      },
      "execution_count": 5,
      "outputs": [
        {
          "output_type": "stream",
          "name": "stdout",
          "text": [
            "apple 5\n",
            "test 4\n",
            "mango 5\n"
          ]
        }
      ]
    },
    {
      "cell_type": "code",
      "source": [
        "dic={\"book\": \"Wings of Fire\",\n",
        "     \"Author\": \"A.P.J abdul Kalam\",\n",
        "     \"pages\": \"201-300\"}"
      ],
      "metadata": {
        "id": "vWWf0tk_OK7A"
      },
      "execution_count": 9,
      "outputs": []
    },
    {
      "cell_type": "code",
      "source": [
        "dic[\"book\"]"
      ],
      "metadata": {
        "id": "Drb8cU0qOfNL",
        "outputId": "704e5cc9-bae3-41cf-ad6d-48041f5b0d2c",
        "colab": {
          "base_uri": "https://localhost:8080/",
          "height": 35
        }
      },
      "execution_count": 8,
      "outputs": [
        {
          "output_type": "execute_result",
          "data": {
            "text/plain": [
              "'Wings of Fire'"
            ],
            "application/vnd.google.colaboratory.intrinsic+json": {
              "type": "string"
            }
          },
          "metadata": {},
          "execution_count": 8
        }
      ]
    },
    {
      "cell_type": "code",
      "source": [
        "class test:\n",
        "  def add(a,b):\n",
        "    print(a+b);\n",
        "\n",
        ""
      ],
      "metadata": {
        "id": "jiCPH9KhOoga"
      },
      "execution_count": 11,
      "outputs": []
    },
    {
      "cell_type": "code",
      "source": [
        "t1=test\n",
        "t1.add(10,15);"
      ],
      "metadata": {
        "id": "hcAoSoHEPUqa",
        "outputId": "2063043c-6f77-4d6f-c864-4cefa1e5d17b",
        "colab": {
          "base_uri": "https://localhost:8080/"
        }
      },
      "execution_count": 13,
      "outputs": [
        {
          "output_type": "stream",
          "name": "stdout",
          "text": [
            "25\n"
          ]
        }
      ]
    },
    {
      "cell_type": "code",
      "source": [
        "a=0\n",
        "b=1\n",
        "\n",
        "while(a<100):\n",
        "  print(a)\n",
        "  a,b=b,a+b"
      ],
      "metadata": {
        "id": "6JbAQQ0fPnHY",
        "outputId": "ad46483f-32b8-42fb-b5b9-39945562e85f",
        "colab": {
          "base_uri": "https://localhost:8080/"
        }
      },
      "execution_count": 14,
      "outputs": [
        {
          "output_type": "stream",
          "name": "stdout",
          "text": [
            "0\n",
            "1\n",
            "1\n",
            "2\n",
            "3\n",
            "5\n",
            "8\n",
            "13\n",
            "21\n",
            "34\n",
            "55\n",
            "89\n"
          ]
        }
      ]
    },
    {
      "cell_type": "code",
      "source": [
        "li[0]=\"tomato\""
      ],
      "metadata": {
        "id": "IW-6pNuUP9Sz"
      },
      "execution_count": 15,
      "outputs": []
    },
    {
      "cell_type": "code",
      "source": [
        "li"
      ],
      "metadata": {
        "id": "HlUEImPSQGh_",
        "outputId": "45ff4472-4bd6-42c1-ea6c-3ec1b4c277d2",
        "colab": {
          "base_uri": "https://localhost:8080/"
        }
      },
      "execution_count": 16,
      "outputs": [
        {
          "output_type": "execute_result",
          "data": {
            "text/plain": [
              "['tomato', 'test', 'mango']"
            ]
          },
          "metadata": {},
          "execution_count": 16
        }
      ]
    },
    {
      "cell_type": "code",
      "source": [
        "print(type(li))"
      ],
      "metadata": {
        "id": "7dcdA8_qQJ7z",
        "outputId": "2c3aafcf-7cdd-446e-b41e-ed367dd8bbf9",
        "colab": {
          "base_uri": "https://localhost:8080/"
        }
      },
      "execution_count": 17,
      "outputs": [
        {
          "output_type": "stream",
          "name": "stdout",
          "text": [
            "<class 'list'>\n"
          ]
        }
      ]
    },
    {
      "cell_type": "code",
      "source": [
        "tup=(1,1,\"foot\",3.5)"
      ],
      "metadata": {
        "id": "9G0RmmCVQPUd"
      },
      "execution_count": 18,
      "outputs": []
    },
    {
      "cell_type": "code",
      "source": [
        "ple=(2,\"ball\",\"3.5\")"
      ],
      "metadata": {
        "id": "7tOFmvB6Qdrq"
      },
      "execution_count": 22,
      "outputs": []
    },
    {
      "cell_type": "code",
      "source": [
        "tup[2]+ple[1]"
      ],
      "metadata": {
        "id": "v1yr5yZlQYpN",
        "outputId": "f4450de1-9a81-4337-ca44-477ce85e1503",
        "colab": {
          "base_uri": "https://localhost:8080/",
          "height": 35
        }
      },
      "execution_count": 23,
      "outputs": [
        {
          "output_type": "execute_result",
          "data": {
            "text/plain": [
              "'football'"
            ],
            "application/vnd.google.colaboratory.intrinsic+json": {
              "type": "string"
            }
          },
          "metadata": {},
          "execution_count": 23
        }
      ]
    },
    {
      "cell_type": "code",
      "source": [
        "a=\"x\"\n",
        "b=\"=\"\n",
        "n=88.8\n",
        "lim=11\n",
        "i=1"
      ],
      "metadata": {
        "id": "MVpMKaOBdOrg"
      },
      "execution_count": 36,
      "outputs": []
    },
    {
      "cell_type": "code",
      "source": [
        "for i in range(lim):\n",
        "  print(n,a,i,b,n*i)\n"
      ],
      "metadata": {
        "id": "WP1K6CYsdJWm",
        "outputId": "8d823dcf-4c74-44ae-8f8c-acfb3e77b010",
        "colab": {
          "base_uri": "https://localhost:8080/"
        }
      },
      "execution_count": 37,
      "outputs": [
        {
          "output_type": "stream",
          "name": "stdout",
          "text": [
            "88.8 x 0 = 0.0\n",
            "88.8 x 1 = 88.8\n",
            "88.8 x 2 = 177.6\n",
            "88.8 x 3 = 266.4\n",
            "88.8 x 4 = 355.2\n",
            "88.8 x 5 = 444.0\n",
            "88.8 x 6 = 532.8\n",
            "88.8 x 7 = 621.6\n",
            "88.8 x 8 = 710.4\n",
            "88.8 x 9 = 799.1999999999999\n",
            "88.8 x 10 = 888.0\n"
          ]
        }
      ]
    },
    {
      "cell_type": "code",
      "source": [
        "sett={1,1,\"test\",10.4,\"test\",\"set\"}"
      ],
      "metadata": {
        "id": "SCkOd_toml_R"
      },
      "execution_count": 38,
      "outputs": []
    },
    {
      "cell_type": "code",
      "source": [
        "print(type(sett))\n",
        "sett"
      ],
      "metadata": {
        "id": "N7qKGW2tmu1w",
        "outputId": "65b3d2cc-77d1-4761-ee45-34c4712a5a1a",
        "colab": {
          "base_uri": "https://localhost:8080/"
        }
      },
      "execution_count": 39,
      "outputs": [
        {
          "output_type": "stream",
          "name": "stdout",
          "text": [
            "<class 'set'>\n"
          ]
        },
        {
          "output_type": "execute_result",
          "data": {
            "text/plain": [
              "{1, 10.4, 'set', 'test'}"
            ]
          },
          "metadata": {},
          "execution_count": 39
        }
      ]
    },
    {
      "cell_type": "code",
      "source": [
        "sett\n",
        "\n",
        "for i in sett:\n",
        "  print(i)"
      ],
      "metadata": {
        "id": "hJ-lhgn7m5dc",
        "outputId": "31811a94-1c4a-4be4-91ce-2512b9c1e09b",
        "colab": {
          "base_uri": "https://localhost:8080/"
        }
      },
      "execution_count": 41,
      "outputs": [
        {
          "output_type": "stream",
          "name": "stdout",
          "text": [
            "1\n",
            "10.4\n",
            "test\n",
            "set\n"
          ]
        }
      ]
    },
    {
      "cell_type": "code",
      "source": [
        "se=iter(sett)\n",
        "print(next(se))\n",
        "print(next(se))\n",
        "print(next(se))\n",
        "print(next(se))"
      ],
      "metadata": {
        "id": "IMxQWddmo22w",
        "outputId": "3048f822-ce1b-4321-b833-5c9e79ed2211",
        "colab": {
          "base_uri": "https://localhost:8080/"
        }
      },
      "execution_count": 45,
      "outputs": [
        {
          "output_type": "stream",
          "name": "stdout",
          "text": [
            "1\n",
            "10.4\n",
            "test\n",
            "set\n"
          ]
        }
      ]
    },
    {
      "cell_type": "code",
      "source": [
        "a=10\n",
        "b=20\n",
        "\n",
        "if a>b:\n",
        "  print(\"a is big\")\n",
        "else:\n",
        "  print(\"b is big\")"
      ],
      "metadata": {
        "id": "uv3UeH_UrTeN",
        "outputId": "d8653e09-a8ab-40be-fb3e-4af61ff52e47",
        "colab": {
          "base_uri": "https://localhost:8080/"
        }
      },
      "execution_count": 52,
      "outputs": [
        {
          "output_type": "stream",
          "name": "stdout",
          "text": [
            "b is big\n"
          ]
        }
      ]
    },
    {
      "cell_type": "code",
      "source": [
        "a=10\n",
        "b=20\n",
        "c=3\n",
        "\n",
        "if a>b and a>c:\n",
        "  print(\"a is big\")\n",
        "elif b>c and b>a:\n",
        "  print(\"b is big\")\n",
        "else:\n",
        "  print(\"c is big\")"
      ],
      "metadata": {
        "id": "1PzZlvAksoui",
        "outputId": "20c5906b-e28d-43e4-caed-ed173de55149",
        "colab": {
          "base_uri": "https://localhost:8080/"
        }
      },
      "execution_count": 55,
      "outputs": [
        {
          "output_type": "stream",
          "name": "stdout",
          "text": [
            "b is big\n"
          ]
        }
      ]
    },
    {
      "cell_type": "code",
      "source": [
        "li=list((\"test\",10.25,20))\n",
        "print(li)\n",
        "print(type(li))"
      ],
      "metadata": {
        "id": "j7tR5TIluv_2",
        "outputId": "5902f6a4-d625-4bb0-ea3f-4bdb1101a549",
        "colab": {
          "base_uri": "https://localhost:8080/"
        }
      },
      "execution_count": 59,
      "outputs": [
        {
          "output_type": "stream",
          "name": "stdout",
          "text": [
            "['test', 10.25, 20]\n",
            "<class 'list'>\n"
          ]
        }
      ]
    },
    {
      "cell_type": "code",
      "source": [
        "li[0]"
      ],
      "metadata": {
        "id": "V0zkeCjlvQRu",
        "outputId": "ab54a1d1-c483-4ae2-e3ae-da5aae65031f",
        "colab": {
          "base_uri": "https://localhost:8080/",
          "height": 35
        }
      },
      "execution_count": 66,
      "outputs": [
        {
          "output_type": "execute_result",
          "data": {
            "text/plain": [
              "'test'"
            ],
            "application/vnd.google.colaboratory.intrinsic+json": {
              "type": "string"
            }
          },
          "metadata": {},
          "execution_count": 66
        }
      ]
    },
    {
      "cell_type": "code",
      "source": [
        "li[0]=\"positive\""
      ],
      "metadata": {
        "id": "B8HKNoiDvWev"
      },
      "execution_count": 86,
      "outputs": []
    },
    {
      "cell_type": "code",
      "source": [
        "li[-3]=\"test\"\n",
        "print(li)\n",
        "li[-3:-1]"
      ],
      "metadata": {
        "id": "k0SLu6DHvaEt",
        "outputId": "e1fd618b-c138-4223-90da-1670ee689010",
        "colab": {
          "base_uri": "https://localhost:8080/"
        }
      },
      "execution_count": 87,
      "outputs": [
        {
          "output_type": "stream",
          "name": "stdout",
          "text": [
            "['test', 10.25, 20]\n"
          ]
        },
        {
          "output_type": "execute_result",
          "data": {
            "text/plain": [
              "['test', 10.25]"
            ]
          },
          "metadata": {},
          "execution_count": 87
        }
      ]
    },
    {
      "cell_type": "code",
      "source": [
        "lm=list((1,2,4,5,7,8.8,8,10))\n",
        "lm[-4::]"
      ],
      "metadata": {
        "id": "DAxOb457ybK3",
        "outputId": "0f4f5b54-75fe-4e13-947a-7e04446fc37a",
        "colab": {
          "base_uri": "https://localhost:8080/"
        }
      },
      "execution_count": 101,
      "outputs": [
        {
          "output_type": "execute_result",
          "data": {
            "text/plain": [
              "[7, 8.8, 8, 10]"
            ]
          },
          "metadata": {},
          "execution_count": 101
        }
      ]
    },
    {
      "cell_type": "code",
      "source": [
        "lm\n",
        "lm[0:8:1]"
      ],
      "metadata": {
        "id": "ig57Ai39y3s5",
        "outputId": "32c2a790-c595-4f4b-bc3f-8f01e5f396d1",
        "colab": {
          "base_uri": "https://localhost:8080/"
        }
      },
      "execution_count": 114,
      "outputs": [
        {
          "output_type": "execute_result",
          "data": {
            "text/plain": [
              "[1, 2, 4, 5, 7, 8.8, 8, 10]"
            ]
          },
          "metadata": {},
          "execution_count": 114
        }
      ]
    },
    {
      "cell_type": "code",
      "source": [
        "lm[-8:-1]"
      ],
      "metadata": {
        "id": "Wnu2dOJP1sjK",
        "outputId": "9150dfee-06e2-4f36-b657-a6a207fbc75f",
        "colab": {
          "base_uri": "https://localhost:8080/"
        }
      },
      "execution_count": 117,
      "outputs": [
        {
          "output_type": "execute_result",
          "data": {
            "text/plain": [
              "[1, 2, 4, 5, 7, 8.8, 8]"
            ]
          },
          "metadata": {},
          "execution_count": 117
        }
      ]
    },
    {
      "cell_type": "code",
      "source": [
        "lm[:-1]"
      ],
      "metadata": {
        "id": "o_x8fEQq2BMC",
        "outputId": "32c11c65-c968-4c55-d64e-bb1bdfe66cbd",
        "colab": {
          "base_uri": "https://localhost:8080/"
        }
      },
      "execution_count": 118,
      "outputs": [
        {
          "output_type": "execute_result",
          "data": {
            "text/plain": [
              "[1, 2, 4, 5, 7, 8.8, 8]"
            ]
          },
          "metadata": {},
          "execution_count": 118
        }
      ]
    },
    {
      "cell_type": "code",
      "source": [
        "lm[-8:]"
      ],
      "metadata": {
        "id": "3zdM89Ns2Fiw",
        "outputId": "3e6173f4-7f0c-42da-fb8b-400096a314cf",
        "colab": {
          "base_uri": "https://localhost:8080/"
        }
      },
      "execution_count": 119,
      "outputs": [
        {
          "output_type": "execute_result",
          "data": {
            "text/plain": [
              "[1, 2, 4, 5, 7, 8.8, 8, 10]"
            ]
          },
          "metadata": {},
          "execution_count": 119
        }
      ]
    },
    {
      "cell_type": "code",
      "source": [
        "lm[::]"
      ],
      "metadata": {
        "id": "kuOhxn7f2JHj",
        "outputId": "9808b06a-f1d7-469d-cab3-58ac4aa46120",
        "colab": {
          "base_uri": "https://localhost:8080/"
        }
      },
      "execution_count": 120,
      "outputs": [
        {
          "output_type": "execute_result",
          "data": {
            "text/plain": [
              "[1, 2, 4, 5, 7, 8.8, 8, 10]"
            ]
          },
          "metadata": {},
          "execution_count": 120
        }
      ]
    },
    {
      "cell_type": "code",
      "source": [],
      "metadata": {
        "id": "7id4i3sb25WH"
      },
      "execution_count": null,
      "outputs": []
    },
    {
      "cell_type": "code",
      "source": [
        "lm[:8:3]"
      ],
      "metadata": {
        "id": "yNRLMgey2Lf2",
        "outputId": "a22f57fb-ce70-48cb-99f3-e073e94b8d52",
        "colab": {
          "base_uri": "https://localhost:8080/"
        }
      },
      "execution_count": 129,
      "outputs": [
        {
          "output_type": "execute_result",
          "data": {
            "text/plain": [
              "[1, 5, 8]"
            ]
          },
          "metadata": {},
          "execution_count": 129
        }
      ]
    },
    {
      "cell_type": "code",
      "source": [
        "lm[:-9:-1]"
      ],
      "metadata": {
        "id": "NzrkwfhE2mai",
        "outputId": "c131acf0-d45e-4cb1-ca7f-4f413b9497fe",
        "colab": {
          "base_uri": "https://localhost:8080/"
        }
      },
      "execution_count": 144,
      "outputs": [
        {
          "output_type": "execute_result",
          "data": {
            "text/plain": [
              "[10, 8, 8.8, 7, 5, 4, 2, 1]"
            ]
          },
          "metadata": {},
          "execution_count": 144
        }
      ]
    },
    {
      "cell_type": "code",
      "source": [
        "lms=[29,30,60,40,320]\n",
        "lms[1:2]=[330,40,50]\n",
        "lms"
      ],
      "metadata": {
        "id": "lunf1Bz18z6_",
        "outputId": "04a2b66f-fa21-4427-d491-309791082d73",
        "colab": {
          "base_uri": "https://localhost:8080/"
        }
      },
      "execution_count": 146,
      "outputs": [
        {
          "output_type": "execute_result",
          "data": {
            "text/plain": [
              "[29, 330, 40, 50, 60, 40, 320]"
            ]
          },
          "metadata": {},
          "execution_count": 146
        }
      ]
    },
    {
      "cell_type": "code",
      "source": [
        "lms[2:5]=[88]\n",
        "lms"
      ],
      "metadata": {
        "id": "mvu7Wqmw9Y67",
        "outputId": "e398a89a-c722-4e73-c77e-f5ea7f432d15",
        "colab": {
          "base_uri": "https://localhost:8080/"
        }
      },
      "execution_count": 148,
      "outputs": [
        {
          "output_type": "execute_result",
          "data": {
            "text/plain": [
              "[29, 330, 88]"
            ]
          },
          "metadata": {},
          "execution_count": 148
        }
      ]
    },
    {
      "cell_type": "code",
      "source": [
        "lms"
      ],
      "metadata": {
        "id": "r9Jq46fv-SF5",
        "outputId": "babb82f5-6f24-4245-968f-85e466952628",
        "colab": {
          "base_uri": "https://localhost:8080/"
        }
      },
      "execution_count": 149,
      "outputs": [
        {
          "output_type": "execute_result",
          "data": {
            "text/plain": [
              "[29, 330, 88]"
            ]
          },
          "metadata": {},
          "execution_count": 149
        }
      ]
    },
    {
      "cell_type": "code",
      "source": [
        "lm=[1,2,3,4,5,6,7,8]\n",
        "lm.insert(1,22)\n",
        "lm"
      ],
      "metadata": {
        "id": "LttvzciG-bUv",
        "outputId": "e85036bf-c54f-440f-aed4-d5839ffe55f0",
        "colab": {
          "base_uri": "https://localhost:8080/"
        }
      },
      "execution_count": 167,
      "outputs": [
        {
          "output_type": "execute_result",
          "data": {
            "text/plain": [
              "[1, 22, 2, 3, 4, 5, 6, 7, 8]"
            ]
          },
          "metadata": {},
          "execution_count": 167
        }
      ]
    },
    {
      "cell_type": "code",
      "source": [
        "ls=[100,200]"
      ],
      "metadata": {
        "id": "9U3Clpyh_Rg0"
      },
      "execution_count": 168,
      "outputs": []
    },
    {
      "cell_type": "code",
      "source": [
        "lm.extend(ls)\n",
        "lm"
      ],
      "metadata": {
        "id": "errxI_wD_T3X",
        "outputId": "9a74604f-989b-4679-cdf8-8009415523fb",
        "colab": {
          "base_uri": "https://localhost:8080/"
        }
      },
      "execution_count": 169,
      "outputs": [
        {
          "output_type": "execute_result",
          "data": {
            "text/plain": [
              "[1, 22, 2, 3, 4, 5, 6, 7, 8, 100, 200]"
            ]
          },
          "metadata": {},
          "execution_count": 169
        }
      ]
    },
    {
      "cell_type": "code",
      "source": [
        "lm.remove(7)\n",
        "lm"
      ],
      "metadata": {
        "id": "ZpGYPkn__dfk",
        "outputId": "b91f4657-c25a-4096-b0c8-afbe5d4933f3",
        "colab": {
          "base_uri": "https://localhost:8080/"
        }
      },
      "execution_count": 170,
      "outputs": [
        {
          "output_type": "execute_result",
          "data": {
            "text/plain": [
              "[1, 22, 2, 3, 4, 5, 6, 8, 100, 200]"
            ]
          },
          "metadata": {},
          "execution_count": 170
        }
      ]
    },
    {
      "cell_type": "code",
      "source": [
        "lm.pop(2)\n",
        "lm"
      ],
      "metadata": {
        "id": "BGqm15u1_hXt",
        "outputId": "5905c783-ad6c-449a-d2d6-29c6dfba11a7",
        "colab": {
          "base_uri": "https://localhost:8080/"
        }
      },
      "execution_count": 171,
      "outputs": [
        {
          "output_type": "execute_result",
          "data": {
            "text/plain": [
              "[1, 22, 3, 4, 5, 6, 8, 100, 200]"
            ]
          },
          "metadata": {},
          "execution_count": 171
        }
      ]
    },
    {
      "cell_type": "code",
      "source": [
        "del lm[0:3]\n",
        "lm"
      ],
      "metadata": {
        "id": "lv-A36nl_ohT",
        "outputId": "fc72f0dc-ec8b-43a3-9b24-e23a54c9685c",
        "colab": {
          "base_uri": "https://localhost:8080/"
        }
      },
      "execution_count": 175,
      "outputs": [
        {
          "output_type": "execute_result",
          "data": {
            "text/plain": [
              "[6, 8, 100, 200]"
            ]
          },
          "metadata": {},
          "execution_count": 175
        }
      ]
    },
    {
      "cell_type": "code",
      "source": [
        "test=[1, 22, 3, 4, 5, 6, 8, 100, 200]\n",
        "del test[0:3]\n",
        "test.clear()\n",
        "test"
      ],
      "metadata": {
        "id": "J6P1vhA1AIK-",
        "outputId": "30cf3dd4-c440-457e-b9cf-978857857f83",
        "colab": {
          "base_uri": "https://localhost:8080/"
        }
      },
      "execution_count": 179,
      "outputs": [
        {
          "output_type": "execute_result",
          "data": {
            "text/plain": [
              "[]"
            ]
          },
          "metadata": {},
          "execution_count": 179
        }
      ]
    },
    {
      "cell_type": "code",
      "source": [
        "test=[1, 22, 3, 4, 5, 6, 8, 100, 200]\n",
        "\n",
        "for i in test:\n",
        "  print(i)"
      ],
      "metadata": {
        "id": "5fny_b_XBbmO",
        "outputId": "26e8a905-8d50-44e5-bb4b-fb5e26789316",
        "colab": {
          "base_uri": "https://localhost:8080/"
        }
      },
      "execution_count": 180,
      "outputs": [
        {
          "output_type": "stream",
          "name": "stdout",
          "text": [
            "1\n",
            "22\n",
            "3\n",
            "4\n",
            "5\n",
            "6\n",
            "8\n",
            "100\n",
            "200\n"
          ]
        }
      ]
    },
    {
      "cell_type": "code",
      "source": [],
      "metadata": {
        "id": "u_nVvaimBero"
      },
      "execution_count": null,
      "outputs": []
    }
  ]
}